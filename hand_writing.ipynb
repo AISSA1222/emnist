{
  "cells": [
    {
      "cell_type": "markdown",
      "metadata": {
        "id": "view-in-github",
        "colab_type": "text"
      },
      "source": [
        "<a href=\"https://colab.research.google.com/github/AISSA1222/emnist/blob/main/hand_writing.ipynb\" target=\"_parent\"><img src=\"https://colab.research.google.com/assets/colab-badge.svg\" alt=\"Open In Colab\"/></a>"
      ]
    },
    {
      "cell_type": "markdown",
      "source": [
        "1 - **we started with the installing EMNIST wich contain lowercase and upperces  caracters**\n",
        "\n",
        "---\n"
      ],
      "metadata": {
        "id": "ZpJB3jv5L2lj"
      }
    },
    {
      "cell_type": "code",
      "execution_count": null,
      "metadata": {
        "id": "BBU7UwBqTEIP",
        "colab": {
          "base_uri": "https://localhost:8080/"
        },
        "outputId": "da18d027-9539-43e1-cbbf-12cbf827583d"
      },
      "outputs": [
        {
          "output_type": "stream",
          "name": "stdout",
          "text": [
            "Looking in indexes: https://pypi.org/simple, https://us-python.pkg.dev/colab-wheels/public/simple/\n",
            "Collecting extra_keras_datasets\n",
            "  Downloading extra_keras_datasets-1.2.0-py3-none-any.whl (12 kB)\n",
            "Requirement already satisfied: scikit-learn in /usr/local/lib/python3.8/dist-packages (from extra_keras_datasets) (1.0.2)\n",
            "Requirement already satisfied: scipy in /usr/local/lib/python3.8/dist-packages (from extra_keras_datasets) (1.7.3)\n",
            "Requirement already satisfied: pandas in /usr/local/lib/python3.8/dist-packages (from extra_keras_datasets) (1.3.5)\n",
            "Requirement already satisfied: numpy in /usr/local/lib/python3.8/dist-packages (from extra_keras_datasets) (1.21.6)\n",
            "Requirement already satisfied: python-dateutil>=2.7.3 in /usr/local/lib/python3.8/dist-packages (from pandas->extra_keras_datasets) (2.8.2)\n",
            "Requirement already satisfied: pytz>=2017.3 in /usr/local/lib/python3.8/dist-packages (from pandas->extra_keras_datasets) (2022.7)\n",
            "Requirement already satisfied: threadpoolctl>=2.0.0 in /usr/local/lib/python3.8/dist-packages (from scikit-learn->extra_keras_datasets) (3.1.0)\n",
            "Requirement already satisfied: joblib>=0.11 in /usr/local/lib/python3.8/dist-packages (from scikit-learn->extra_keras_datasets) (1.2.0)\n",
            "Requirement already satisfied: six>=1.5 in /usr/local/lib/python3.8/dist-packages (from python-dateutil>=2.7.3->pandas->extra_keras_datasets) (1.15.0)\n",
            "Installing collected packages: extra_keras_datasets\n",
            "Successfully installed extra_keras_datasets-1.2.0\n"
          ]
        }
      ],
      "source": [
        "!pip install extra_keras_datasets"
      ]
    },
    {
      "cell_type": "code",
      "execution_count": null,
      "metadata": {
        "id": "eWLQRg5jSk2A",
        "colab": {
          "base_uri": "https://localhost:8080/"
        },
        "outputId": "8746c757-320a-4855-ae40-76706691321d"
      },
      "outputs": [
        {
          "output_type": "stream",
          "name": "stderr",
          "text": [
            "<ipython-input-2-2e331f087eb1>:9: UserWarning: Viewer requires Qt\n",
            "  import skimage.viewer as skview\n"
          ]
        }
      ],
      "source": [
        "import numpy  as np\n",
        "from keras import layers, models\n",
        "from keras.layers import BatchNormalization,Activation,Dropout\n",
        "from tensorflow.keras.preprocessing.image import ImageDataGenerator\n",
        "from tensorflow.keras.optimizers import  Adam,SGD,RMSprop\n",
        "from tensorflow.keras.models import Model,Sequential\n",
        "from tensorflow.keras.utils import to_categorical\n",
        "import skimage.io as skio\n",
        "import skimage.viewer as skview\n",
        "from extra_keras_datasets import emnist\n",
        "import matplotlib.pyplot as plt\n"
      ]
    },
    {
      "cell_type": "markdown",
      "source": [
        "2-**loading dataset** "
      ],
      "metadata": {
        "id": "FF7pKwb1OTb_"
      }
    },
    {
      "cell_type": "code",
      "execution_count": null,
      "metadata": {
        "id": "LovmV5PIdHJN",
        "colab": {
          "base_uri": "https://localhost:8080/"
        },
        "outputId": "88bff71c-4a0a-4c97-c961-c05626b14f43"
      },
      "outputs": [
        {
          "output_type": "stream",
          "name": "stdout",
          "text": [
            "Downloading data from http://www.itl.nist.gov/iaui/vip/cs_links/EMNIST/matlab.zip\n",
            "743900280/743900280 [==============================] - 15s 0us/step\n"
          ]
        },
        {
          "output_type": "stream",
          "name": "stderr",
          "text": [
            "WARNING:root:Please cite the following paper when using or referencing this Extra Keras Dataset:\n",
            "WARNING:root:Cohen, G., Afshar, S., Tapson, J., & van Schaik, A. (2017). EMNIST: an extension of MNIST to handwritten letters. Retrieved from http://arxiv.org/abs/1702.05373\n"
          ]
        }
      ],
      "source": [
        "(input_train, target_train), (input_test, target_test) = emnist.load_data(type='letters')"
      ]
    },
    {
      "cell_type": "markdown",
      "source": [
        "**3-normaliser dataset**"
      ],
      "metadata": {
        "id": "G8hs3drqOdn0"
      }
    },
    {
      "cell_type": "code",
      "source": [
        "\n",
        "target_train = target_train -1\n",
        "target_test = target_test -1\n",
        "input_train = input_train/255.0\n",
        "input_test = input_test/255.0"
      ],
      "metadata": {
        "id": "LOHn7VTr3meH"
      },
      "execution_count": null,
      "outputs": []
    },
    {
      "cell_type": "markdown",
      "source": [
        "**4-show sample of data** "
      ],
      "metadata": {
        "id": "er_dMdXUOj-A"
      }
    },
    {
      "cell_type": "code",
      "execution_count": null,
      "metadata": {
        "id": "EcfQ2iFMZt0f",
        "colab": {
          "base_uri": "https://localhost:8080/",
          "height": 282
        },
        "outputId": "2579e2b7-a809-48fd-a3d0-9e1763ac3fd3"
      },
      "outputs": [
        {
          "output_type": "stream",
          "name": "stdout",
          "text": [
            "19\n"
          ]
        },
        {
          "output_type": "display_data",
          "data": {
            "text/plain": [
              "<Figure size 432x288 with 1 Axes>"
            ],
            "image/png": "[encoded data removed]"
          },
          "metadata": {
            "needs_background": "light"
          }
        }
      ],
      "source": [
        "\n",
        "sample = 540\n",
        "image = input_train[sample]\n",
        "# plot the sample\n",
        "fig = plt.figure\n",
        "plt.imshow(image)\n",
        "\n",
        "print(target_train[sample])\n",
        "\n",
        "\n",
        "plt.show()"
      ]
    },
    {
      "cell_type": "markdown",
      "source": [
        "**5-reshape data**"
      ],
      "metadata": {
        "id": "zWkxyzydOwC5"
      }
    },
    {
      "cell_type": "code",
      "execution_count": null,
      "metadata": {
        "id": "SoDZ2xe0dR0E"
      },
      "outputs": [],
      "source": [
        "\n",
        "input_train = input_train.reshape((input_train.shape[0], 28, 28, 1))\n",
        "input_test = input_test.reshape((input_test.shape[0], 28, 28, 1))"
      ]
    },
    {
      "cell_type": "markdown",
      "source": [
        "**6-hot encoding the labels**"
      ],
      "metadata": {
        "id": "iZA5n6cINK2O"
      }
    },
    {
      "cell_type": "code",
      "execution_count": null,
      "metadata": {
        "id": "cbuqBlUafSgb",
        "colab": {
          "base_uri": "https://localhost:8080/"
        },
        "outputId": "0229ff70-df66-4e29-f8ea-0a4a6a442e95"
      },
      "outputs": [
        {
          "output_type": "stream",
          "name": "stdout",
          "text": [
            "(20800, 26)\n"
          ]
        }
      ],
      "source": [
        "\n",
        "target_train = to_categorical(target_train,26)\n",
        "target_test = to_categorical(target_test,26)\n",
        "print(target_test.shape)\n",
        "\n"
      ]
    },
    {
      "cell_type": "markdown",
      "source": [
        "**7- build CNN model**"
      ],
      "metadata": {
        "id": "avCvNK2PPFF9"
      }
    },
    {
      "cell_type": "code",
      "execution_count": null,
      "metadata": {
        "id": "Iy_qd1gxgUjR"
      },
      "outputs": [],
      "source": [
        "my_model = Sequential()\n",
        "\n",
        "my_model.add(layers.Conv2D(filters = 32, kernel_size = (3, 3), activation = 'relu', input_shape = (28, 28, 1)))\n",
        "my_model.add(layers.BatchNormalization())\n",
        "my_model.add(layers.MaxPool2D(pool_size = (2, 2), strides = 2))\n",
        "my_model.add(layers.Dropout(0.25))\n",
        "\n",
        "my_model.add(layers.Conv2D(filters = 64, kernel_size = (5, 5), activation = 'relu', padding = 'same'))\n",
        "my_model.add(layers.BatchNormalization())\n",
        "my_model.add(layers.MaxPool2D(pool_size = (2, 2), strides = 2))\n",
        "my_model.add(layers.Dropout(0.25))\n",
        "\n",
        "my_model.add(layers.Conv2D(filters = 128, kernel_size = (3, 3), activation = 'relu'))\n",
        "my_model.add(layers.BatchNormalization())\n",
        "my_model.add(layers.MaxPool2D(pool_size = (2, 2), strides = 2))\n",
        "my_model.add(layers.Dropout(0.25))\n",
        "\n",
        "\n",
        "\n",
        "\n",
        "\n",
        "my_model.add(layers.Flatten())\n",
        "my_model.add(layers.Dropout(0.25))\n",
        "\n",
        "my_model.add(layers.Dense(512, activation = \"relu\"))\n",
        "my_model.add(layers.Dropout(0.25))\n",
        "\n",
        "my_model.add(layers.Dense(128, activation = \"relu\"))\n",
        "my_model.add(layers.Dropout(0.25))\n",
        "my_model.add(layers.Dense(26, activation = \"softmax\"))"
      ]
    },
    {
      "cell_type": "markdown",
      "source": [
        "**8-statistics about the model**\n",
        "\n",
        "\n"
      ],
      "metadata": {
        "id": "O3Z0tGiDPOLr"
      }
    },
    {
      "cell_type": "code",
      "execution_count": null,
      "metadata": {
        "id": "CifSQVSfh1oS"
      },
      "outputs": [],
      "source": [
        "print(my_model.summary())"
      ]
    },
    {
      "cell_type": "markdown",
      "source": [
        "**9-compiling the model by adding the loss function and error optimizer**"
      ],
      "metadata": {
        "id": "rPgFcGA3PWxr"
      }
    },
    {
      "cell_type": "code",
      "execution_count": null,
      "metadata": {
        "id": "DpUx_rTziKMD",
        "colab": {
          "base_uri": "https://localhost:8080/"
        },
        "outputId": "9c16c1a3-ca2d-4d97-b596-e79bc7adc74c"
      },
      "outputs": [
        {
          "output_type": "stream",
          "name": "stderr",
          "text": [
            "/usr/local/lib/python3.8/dist-packages/keras/optimizers/optimizer_v2/adam.py:110: UserWarning: The `lr` argument is deprecated, use `learning_rate` instead.\n",
            "  super(Adam, self).__init__(name, **kwargs)\n"
          ]
        }
      ],
      "source": [
        "opt = Adam(lr = 0.001) \n",
        "my_model.compile(optimizer=opt,loss='categorical_crossentropy', metrics=['accuracy']) "
      ]
    },
    {
      "cell_type": "markdown",
      "source": [
        "**`10-training the model `**"
      ],
      "metadata": {
        "id": "NY0SU8K4P4Qj"
      }
    },
    {
      "cell_type": "code",
      "execution_count": null,
      "metadata": {
        "id": "I-SfhV3TiapE",
        "colab": {
          "base_uri": "https://localhost:8080/"
        },
        "outputId": "d98c765c-7494-4cc3-b649-715fd4e66593"
      },
      "outputs": [
        {
          "output_type": "stream",
          "name": "stdout",
          "text": [
            "Epoch 1/60\n",
            "1248/1248 [==============================] - 18s 7ms/step - loss: 0.7131 - accuracy: 0.7783 - val_loss: 0.2319 - val_accuracy: 0.9210\n",
            "Epoch 2/60\n",
            "1248/1248 [==============================] - 9s 7ms/step - loss: 0.3228 - accuracy: 0.8964 - val_loss: 0.1986 - val_accuracy: 0.9342\n",
            "Epoch 3/60\n",
            "1248/1248 [==============================] - 8s 7ms/step - loss: 0.2765 - accuracy: 0.9102 - val_loss: 0.1872 - val_accuracy: 0.9344\n",
            "Epoch 4/60\n",
            "1248/1248 [==============================] - 9s 7ms/step - loss: 0.2535 - accuracy: 0.9172 - val_loss: 0.1997 - val_accuracy: 0.9354\n",
            "Epoch 5/60\n",
            "1248/1248 [==============================] - 8s 7ms/step - loss: 0.2367 - accuracy: 0.9219 - val_loss: 0.1801 - val_accuracy: 0.9424\n",
            "Epoch 6/60\n",
            "1248/1248 [==============================] - 9s 7ms/step - loss: 0.2272 - accuracy: 0.9246 - val_loss: 0.1815 - val_accuracy: 0.9425\n",
            "Epoch 7/60\n",
            "1248/1248 [==============================] - 9s 7ms/step - loss: 0.2207 - accuracy: 0.9277 - val_loss: 0.1757 - val_accuracy: 0.9422\n",
            "Epoch 8/60\n",
            "1248/1248 [==============================] - 8s 7ms/step - loss: 0.2120 - accuracy: 0.9301 - val_loss: 0.1785 - val_accuracy: 0.9434\n",
            "Epoch 9/60\n",
            "1248/1248 [==============================] - 8s 7ms/step - loss: 0.2070 - accuracy: 0.9304 - val_loss: 0.1723 - val_accuracy: 0.9441\n",
            "Epoch 10/60\n",
            "1248/1248 [==============================] - 9s 7ms/step - loss: 0.2008 - accuracy: 0.9328 - val_loss: 0.1680 - val_accuracy: 0.9462\n",
            "Epoch 11/60\n",
            "1248/1248 [==============================] - 8s 7ms/step - loss: 0.1968 - accuracy: 0.9335 - val_loss: 0.1809 - val_accuracy: 0.9448\n",
            "Epoch 12/60\n",
            "1248/1248 [==============================] - 8s 7ms/step - loss: 0.1923 - accuracy: 0.9348 - val_loss: 0.1656 - val_accuracy: 0.9469\n",
            "Epoch 13/60\n",
            "1248/1248 [==============================] - 9s 7ms/step - loss: 0.1866 - accuracy: 0.9370 - val_loss: 0.1690 - val_accuracy: 0.9458\n",
            "Epoch 14/60\n",
            "1248/1248 [==============================] - 8s 7ms/step - loss: 0.1842 - accuracy: 0.9377 - val_loss: 0.1707 - val_accuracy: 0.9457\n",
            "Epoch 15/60\n",
            "1248/1248 [==============================] - 8s 7ms/step - loss: 0.1801 - accuracy: 0.9384 - val_loss: 0.1818 - val_accuracy: 0.9414\n",
            "Epoch 16/60\n",
            "1248/1248 [==============================] - 8s 7ms/step - loss: 0.1785 - accuracy: 0.9391 - val_loss: 0.1688 - val_accuracy: 0.9467\n",
            "Epoch 17/60\n",
            "1248/1248 [==============================] - 8s 7ms/step - loss: 0.1732 - accuracy: 0.9406 - val_loss: 0.1664 - val_accuracy: 0.9454\n",
            "Epoch 18/60\n",
            "1248/1248 [==============================] - 9s 7ms/step - loss: 0.1715 - accuracy: 0.9410 - val_loss: 0.1631 - val_accuracy: 0.9473\n",
            "Epoch 19/60\n",
            "1248/1248 [==============================] - 9s 7ms/step - loss: 0.1704 - accuracy: 0.9415 - val_loss: 0.1596 - val_accuracy: 0.9495\n",
            "Epoch 20/60\n",
            "1248/1248 [==============================] - 9s 7ms/step - loss: 0.1678 - accuracy: 0.9418 - val_loss: 0.1552 - val_accuracy: 0.9483\n",
            "Epoch 21/60\n",
            "1248/1248 [==============================] - 9s 7ms/step - loss: 0.1638 - accuracy: 0.9424 - val_loss: 0.1585 - val_accuracy: 0.9503\n",
            "Epoch 22/60\n",
            "1248/1248 [==============================] - 9s 7ms/step - loss: 0.1619 - accuracy: 0.9436 - val_loss: 0.1608 - val_accuracy: 0.9491\n",
            "Epoch 23/60\n",
            "1248/1248 [==============================] - 9s 7ms/step - loss: 0.1607 - accuracy: 0.9443 - val_loss: 0.1508 - val_accuracy: 0.9502\n",
            "Epoch 24/60\n",
            "1248/1248 [==============================] - 8s 7ms/step - loss: 0.1580 - accuracy: 0.9444 - val_loss: 0.1557 - val_accuracy: 0.9498\n",
            "Epoch 25/60\n",
            "1248/1248 [==============================] - 8s 7ms/step - loss: 0.1543 - accuracy: 0.9450 - val_loss: 0.1576 - val_accuracy: 0.9503\n",
            "Epoch 26/60\n",
            "1248/1248 [==============================] - 9s 7ms/step - loss: 0.1547 - accuracy: 0.9454 - val_loss: 0.1586 - val_accuracy: 0.9505\n",
            "Epoch 27/60\n",
            "1248/1248 [==============================] - 9s 7ms/step - loss: 0.1541 - accuracy: 0.9454 - val_loss: 0.1551 - val_accuracy: 0.9502\n",
            "Epoch 28/60\n",
            "1248/1248 [==============================] - 8s 7ms/step - loss: 0.1503 - accuracy: 0.9462 - val_loss: 0.1547 - val_accuracy: 0.9482\n",
            "Epoch 29/60\n",
            "1248/1248 [==============================] - 9s 7ms/step - loss: 0.1503 - accuracy: 0.9462 - val_loss: 0.1536 - val_accuracy: 0.9504\n",
            "Epoch 30/60\n",
            "1248/1248 [==============================] - 9s 7ms/step - loss: 0.1487 - accuracy: 0.9473 - val_loss: 0.1537 - val_accuracy: 0.9495\n",
            "Epoch 31/60\n",
            "1248/1248 [==============================] - 9s 7ms/step - loss: 0.1462 - accuracy: 0.9477 - val_loss: 0.1539 - val_accuracy: 0.9504\n",
            "Epoch 32/60\n",
            "1248/1248 [==============================] - 9s 7ms/step - loss: 0.1454 - accuracy: 0.9482 - val_loss: 0.1499 - val_accuracy: 0.9516\n",
            "Epoch 33/60\n",
            "1248/1248 [==============================] - 9s 7ms/step - loss: 0.1423 - accuracy: 0.9485 - val_loss: 0.1536 - val_accuracy: 0.9493\n",
            "Epoch 34/60\n",
            "1248/1248 [==============================] - 9s 7ms/step - loss: 0.1419 - accuracy: 0.9491 - val_loss: 0.1598 - val_accuracy: 0.9498\n",
            "Epoch 35/60\n",
            "1248/1248 [==============================] - 9s 7ms/step - loss: 0.1438 - accuracy: 0.9484 - val_loss: 0.1499 - val_accuracy: 0.9508\n",
            "Epoch 36/60\n",
            "1248/1248 [==============================] - 9s 7ms/step - loss: 0.1404 - accuracy: 0.9496 - val_loss: 0.1562 - val_accuracy: 0.9506\n",
            "Epoch 37/60\n",
            "1248/1248 [==============================] - 9s 7ms/step - loss: 0.1400 - accuracy: 0.9495 - val_loss: 0.1569 - val_accuracy: 0.9497\n",
            "Epoch 38/60\n",
            "1248/1248 [==============================] - 9s 7ms/step - loss: 0.1381 - accuracy: 0.9492 - val_loss: 0.1542 - val_accuracy: 0.9500\n",
            "Epoch 39/60\n",
            "1248/1248 [==============================] - 9s 7ms/step - loss: 0.1380 - accuracy: 0.9496 - val_loss: 0.1565 - val_accuracy: 0.9507\n",
            "Epoch 40/60\n",
            "1248/1248 [==============================] - 9s 7ms/step - loss: 0.1356 - accuracy: 0.9505 - val_loss: 0.1487 - val_accuracy: 0.9519\n",
            "Epoch 41/60\n",
            "1248/1248 [==============================] - 9s 7ms/step - loss: 0.1332 - accuracy: 0.9509 - val_loss: 0.1549 - val_accuracy: 0.9518\n",
            "Epoch 42/60\n",
            "1248/1248 [==============================] - 9s 7ms/step - loss: 0.1363 - accuracy: 0.9505 - val_loss: 0.1600 - val_accuracy: 0.9495\n",
            "Epoch 43/60\n",
            "1248/1248 [==============================] - 8s 7ms/step - loss: 0.1325 - accuracy: 0.9515 - val_loss: 0.1578 - val_accuracy: 0.9523\n",
            "Epoch 44/60\n",
            "1248/1248 [==============================] - 9s 7ms/step - loss: 0.1326 - accuracy: 0.9516 - val_loss: 0.1590 - val_accuracy: 0.9499\n",
            "Epoch 45/60\n",
            "1248/1248 [==============================] - 9s 7ms/step - loss: 0.1345 - accuracy: 0.9508 - val_loss: 0.1562 - val_accuracy: 0.9503\n",
            "Epoch 46/60\n",
            "1248/1248 [==============================] - 8s 7ms/step - loss: 0.1328 - accuracy: 0.9510 - val_loss: 0.1581 - val_accuracy: 0.9514\n",
            "Epoch 47/60\n",
            "1248/1248 [==============================] - 9s 7ms/step - loss: 0.1309 - accuracy: 0.9522 - val_loss: 0.1531 - val_accuracy: 0.9512\n",
            "Epoch 48/60\n",
            "1248/1248 [==============================] - 9s 7ms/step - loss: 0.1320 - accuracy: 0.9512 - val_loss: 0.1565 - val_accuracy: 0.9509\n",
            "Epoch 49/60\n",
            "1248/1248 [==============================] - 9s 7ms/step - loss: 0.1304 - accuracy: 0.9520 - val_loss: 0.1510 - val_accuracy: 0.9509\n",
            "Epoch 50/60\n",
            "1248/1248 [==============================] - 9s 7ms/step - loss: 0.1308 - accuracy: 0.9516 - val_loss: 0.1536 - val_accuracy: 0.9499\n",
            "Epoch 51/60\n",
            "1248/1248 [==============================] - 9s 7ms/step - loss: 0.1288 - accuracy: 0.9530 - val_loss: 0.1604 - val_accuracy: 0.9504\n",
            "Epoch 52/60\n",
            "1248/1248 [==============================] - 9s 7ms/step - loss: 0.1287 - accuracy: 0.9523 - val_loss: 0.1527 - val_accuracy: 0.9498\n",
            "Epoch 53/60\n",
            "1248/1248 [==============================] - 8s 7ms/step - loss: 0.1289 - accuracy: 0.9525 - val_loss: 0.1545 - val_accuracy: 0.9512\n",
            "Epoch 54/60\n",
            "1248/1248 [==============================] - 9s 8ms/step - loss: 0.1278 - accuracy: 0.9523 - val_loss: 0.1518 - val_accuracy: 0.9511\n",
            "Epoch 55/60\n",
            "1248/1248 [==============================] - 9s 7ms/step - loss: 0.1287 - accuracy: 0.9521 - val_loss: 0.1596 - val_accuracy: 0.9512\n",
            "Epoch 56/60\n",
            "1248/1248 [==============================] - 9s 7ms/step - loss: 0.1289 - accuracy: 0.9518 - val_loss: 0.1548 - val_accuracy: 0.9520\n",
            "Epoch 57/60\n",
            "1248/1248 [==============================] - 9s 7ms/step - loss: 0.1277 - accuracy: 0.9527 - val_loss: 0.1547 - val_accuracy: 0.9508\n",
            "Epoch 58/60\n",
            "1248/1248 [==============================] - 9s 7ms/step - loss: 0.1267 - accuracy: 0.9532 - val_loss: 0.1566 - val_accuracy: 0.9514\n",
            "Epoch 59/60\n",
            "1248/1248 [==============================] - 9s 7ms/step - loss: 0.1257 - accuracy: 0.9529 - val_loss: 0.1628 - val_accuracy: 0.9474\n",
            "Epoch 60/60\n",
            "1248/1248 [==============================] - 9s 7ms/step - loss: 0.1253 - accuracy: 0.9535 - val_loss: 0.1633 - val_accuracy: 0.9514\n"
          ]
        }
      ],
      "source": [
        "history = my_model.fit(\n",
        "    \n",
        "    input_train, target_train, epochs=60, batch_size=100, validation_data=(input_test, target_test), verbose=1,shuffle=True\n",
        ")\n",
        "my_model.save(\"handwritten32.h5\")"
      ]
    },
    {
      "cell_type": "markdown",
      "source": [
        "**11-evalute model**\n",
        "\n",
        "\n",
        "\n",
        "\n"
      ],
      "metadata": {
        "id": "XYE6ODBJQMVJ"
      }
    },
    {
      "cell_type": "code",
      "source": [
        "score = my_model.evaluate(input_test, target_test, verbose=0)\n",
        "print('Test loss:', score[0])\n",
        "print('Test accuracy:', score[1])"
      ],
      "metadata": {
        "id": "20U7Xbhzu-ws",
        "colab": {
          "base_uri": "https://localhost:8080/"
        },
        "outputId": "63cea968-87b7-4b1e-9d77-449b42b6e7e6"
      },
      "execution_count": null,
      "outputs": [
        {
          "output_type": "stream",
          "name": "stdout",
          "text": [
            "Test loss: 0.1633046716451645\n",
            "Test accuracy: 0.951442301273346\n"
          ]
        }
      ]
    },
    {
      "cell_type": "markdown",
      "source": [
        "**12-plotting the loss and accuracy of the model**\n"
      ],
      "metadata": {
        "id": "BEnfnO2NM4rN"
      }
    },
    {
      "cell_type": "code",
      "source": [
        "\n",
        "plt.plot(history.history['loss'])\n",
        "plt.plot(history.history['val_loss'])\n",
        "plt.title('model loss')\n",
        "plt.ylabel('loss')\n",
        "plt.xlabel('epoch')\n",
        "\n",
        "plt.show()"
      ],
      "metadata": {
        "id": "ruWPjjX4M_iL",
        "colab": {
          "base_uri": "https://localhost:8080/",
          "height": 295
        },
        "outputId": "59f11d8b-55e5-4aa0-e023-da2cf09696f1"
      },
      "execution_count": null,
      "outputs": [
        {
          "output_type": "display_data",
          "data": {
            "text/plain": [
              "<Figure size 432x288 with 1 Axes>"
            ],
            "image/png": "[encoded data removed]"
          },
          "metadata": {
            "needs_background": "light"
          }
        }
      ]
    },
    {
      "cell_type": "code",
      "source": [
        "plt.plot(history.history['accuracy'])\n",
        "plt.plot(history.history['val_accuracy'])\n",
        "plt.title('model accuracy')\n",
        "plt.ylabel('accuracy')\n",
        "plt.xlabel('epoch')\n",
        "\n",
        "plt.show()"
      ],
      "metadata": {
        "id": "bp-bCY7DRM09",
        "colab": {
          "base_uri": "https://localhost:8080/",
          "height": 295
        },
        "outputId": "855bf302-7650-43a6-a4ca-7a68f3733005"
      },
      "execution_count": null,
      "outputs": [
        {
          "output_type": "display_data",
          "data": {
            "text/plain": [
              "<Figure size 432x288 with 1 Axes>"
            ],
            "image/png": "[encoded data removed]"
          },
          "metadata": {
            "needs_background": "light"
          }
        }
      ]
    }
  ],
  "metadata": {
    "accelerator": "GPU",
    "colab": {
      "provenance": [],
      "include_colab_link": true
    },
    "gpuClass": "standard",
    "kernelspec": {
      "display_name": "Python 3",
      "name": "python3"
    },
    "language_info": {
      "name": "python"
    }
  },
  "nbformat": 4,
  "nbformat_minor": 0
}